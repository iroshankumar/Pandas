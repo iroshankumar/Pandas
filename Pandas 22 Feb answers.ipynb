{
 "cells": [
  {
   "cell_type": "code",
   "execution_count": null,
   "id": "8a73fe5e-3984-4554-89af-3127a7890585",
   "metadata": {},
   "outputs": [],
   "source": [
    "#import pandas as pd data = {'Name': ['John', 'Jane', 'Jim', 'Joan'], 'Age': [25, 30, 35, 40], 'Occupation': ['Engineer', 'Doctor', 'Teacher', 'Lawyer']} df = pd.DataFrame(data) print(df.loc[0])"
   ]
  },
  {
   "cell_type": "code",
   "execution_count": 30,
   "id": "95a1e1c0-1bb4-45a3-8411-f656e38ba8ba",
   "metadata": {},
   "outputs": [],
   "source": [
    "data=[4,8,15,16,23,42]"
   ]
  },
  {
   "cell_type": "code",
   "execution_count": 34,
   "id": "45efdfff-da84-4af6-9f40-74400fc748b5",
   "metadata": {},
   "outputs": [
    {
     "data": {
      "text/plain": [
       "array([ 4,  8, 15, 16, 23, 42])"
      ]
     },
     "execution_count": 34,
     "metadata": {},
     "output_type": "execute_result"
    }
   ],
   "source": [
    "np.array([4,8,15,16,23,42])"
   ]
  },
  {
   "cell_type": "code",
   "execution_count": 36,
   "id": "391dcbc7-51e1-42c9-8386-d62319908dd0",
   "metadata": {},
   "outputs": [
    {
     "data": {
      "text/plain": [
       "0     4\n",
       "1     8\n",
       "2    15\n",
       "3    16\n",
       "4    23\n",
       "5    42\n",
       "dtype: int64"
      ]
     },
     "execution_count": 36,
     "metadata": {},
     "output_type": "execute_result"
    }
   ],
   "source": [
    "pd.Series(data)"
   ]
  },
  {
   "cell_type": "code",
   "execution_count": 42,
   "id": "44aa0337-9f01-4856-a728-bf61b401d22b",
   "metadata": {},
   "outputs": [
    {
     "data": {
      "text/plain": [
       "0    a\n",
       "1    b\n",
       "2    c\n",
       "3    d\n",
       "4    e\n",
       "5    f\n",
       "6    g\n",
       "7    h\n",
       "8    i\n",
       "9    j\n",
       "dtype: object"
      ]
     },
     "execution_count": 42,
     "metadata": {},
     "output_type": "execute_result"
    }
   ],
   "source": [
    "#Q2. Create a variable of list type containing 10 elements in it, and apply pandas.Series function on the\n",
    "#variable print it.\n",
    "list=['a','b','c','d','e','f','g','h','i','j']\n",
    "pd.Series(list)"
   ]
  },
  {
   "cell_type": "code",
   "execution_count": 46,
   "id": "10d6f5ef-2c53-4b53-ae4b-da825a7c341d",
   "metadata": {},
   "outputs": [
    {
     "data": {
      "text/html": [
       "<div>\n",
       "<style scoped>\n",
       "    .dataframe tbody tr th:only-of-type {\n",
       "        vertical-align: middle;\n",
       "    }\n",
       "\n",
       "    .dataframe tbody tr th {\n",
       "        vertical-align: top;\n",
       "    }\n",
       "\n",
       "    .dataframe thead th {\n",
       "        text-align: right;\n",
       "    }\n",
       "</style>\n",
       "<table border=\"1\" class=\"dataframe\">\n",
       "  <thead>\n",
       "    <tr style=\"text-align: right;\">\n",
       "      <th></th>\n",
       "      <th>Name</th>\n",
       "      <th>Age</th>\n",
       "      <th>Gender</th>\n",
       "    </tr>\n",
       "  </thead>\n",
       "  <tbody>\n",
       "    <tr>\n",
       "      <th>0</th>\n",
       "      <td>Alice</td>\n",
       "      <td>25</td>\n",
       "      <td>F</td>\n",
       "    </tr>\n",
       "    <tr>\n",
       "      <th>1</th>\n",
       "      <td>Bob</td>\n",
       "      <td>30</td>\n",
       "      <td>M</td>\n",
       "    </tr>\n",
       "    <tr>\n",
       "      <th>2</th>\n",
       "      <td>Claire</td>\n",
       "      <td>27</td>\n",
       "      <td>F</td>\n",
       "    </tr>\n",
       "  </tbody>\n",
       "</table>\n",
       "</div>"
      ],
      "text/plain": [
       "     Name  Age Gender\n",
       "0   Alice   25      F\n",
       "1     Bob   30      M\n",
       "2  Claire   27      F"
      ]
     },
     "execution_count": 46,
     "metadata": {},
     "output_type": "execute_result"
    }
   ],
   "source": [
    "#Q3. Create a Pandas DataFrame that contains the following data:\n",
    "\"\"\"Name\n",
    "Alice\n",
    "Bob\n",
    "Claire\n",
    "\n",
    "Age\n",
    "25\n",
    "30\n",
    "27\n",
    "\n",
    "Gender\n",
    "Female\n",
    "Male\n",
    "Female\"\"\"\n",
    "data={\"Name\":['Alice','Bob','Claire'],\"Age\":[25,30,27],\"Gender\":[\"F\",\"M\",\"F\"]}\n",
    "df=pd.DataFrame(data)\n",
    "df"
   ]
  },
  {
   "cell_type": "code",
   "execution_count": 47,
   "id": "2dcc0bc1-c2bf-43ca-9a94-c374ef94c739",
   "metadata": {},
   "outputs": [
    {
     "data": {
      "text/plain": [
       "'In short, a DataFrame in pandas is a two-dimensional data structure that represents tabular data, consisting of rows and columns. It is like a spreadsheet or SQL table. A Series, on the other hand, is a one-dimensional labeled array representing a single column or row of data. It is similar to a single column in a DataFrame or a single column in a spreadsheet.'"
      ]
     },
     "execution_count": 47,
     "metadata": {},
     "output_type": "execute_result"
    }
   ],
   "source": [
    "\"\"\"Q4. What is ‘DataFrame’ in pandas and how is it different from pandas.series? Explain with an example.\"\"\"\n",
    "\n",
    "\"\"\"In short, a DataFrame in pandas is a two-dimensional data structure that represents tabular data, consisting of rows and columns. It is like a spreadsheet or SQL table. A Series, on the other hand, is a one-dimensional labeled array representing a single column or row of data. It is similar to a single column in a DataFrame or a single column in a spreadsheet.\"\"\""
   ]
  },
  {
   "cell_type": "code",
   "execution_count": null,
   "id": "726e7325-adc4-43ef-b355-8c7961dde05d",
   "metadata": {},
   "outputs": [],
   "source": [
    "What are some common functions you can use to manipulate data in a Pandas DataFrame? Can\n",
    "you give an example of when you might use one of these functions?"
   ]
  },
  {
   "cell_type": "code",
   "execution_count": null,
   "id": "e5e6e808-04ef-4900-b0ef-21598d85d946",
   "metadata": {},
   "outputs": [],
   "source": [
    "we can do lots of thing in pandas like we can create dataframe , update it , drop it , drop it prmamently , dorp any columns in pandas etc are the basic function avlibal in pandas to manuplat data frame in pandas."
   ]
  },
  {
   "cell_type": "code",
   "execution_count": null,
   "id": "f892ebcc-50fd-43a4-a17b-871b93a3aa4d",
   "metadata": {},
   "outputs": [],
   "source": [
    "Q6. Which of the following is mutable in nature Series, DataFrame, Panel?"
   ]
  },
  {
   "cell_type": "code",
   "execution_count": null,
   "id": "50504643-28e7-4934-ad24-debefdb49b2a",
   "metadata": {},
   "outputs": [],
   "source": [
    "in panel data and size is mutable"
   ]
  },
  {
   "cell_type": "code",
   "execution_count": null,
   "id": "52b83e92-6f77-4741-bd12-b96d5c9241d1",
   "metadata": {},
   "outputs": [],
   "source": [
    "Q7. Create a DataFrame using multiple Series. Explain with an example."
   ]
  },
  {
   "cell_type": "code",
   "execution_count": 60,
   "id": "28fd515a-8cdb-42ea-a203-e202b6f24265",
   "metadata": {},
   "outputs": [
    {
     "data": {
      "text/html": [
       "<div>\n",
       "<style scoped>\n",
       "    .dataframe tbody tr th:only-of-type {\n",
       "        vertical-align: middle;\n",
       "    }\n",
       "\n",
       "    .dataframe tbody tr th {\n",
       "        vertical-align: top;\n",
       "    }\n",
       "\n",
       "    .dataframe thead th {\n",
       "        text-align: right;\n",
       "    }\n",
       "</style>\n",
       "<table border=\"1\" class=\"dataframe\">\n",
       "  <thead>\n",
       "    <tr style=\"text-align: right;\">\n",
       "      <th></th>\n",
       "      <th>0</th>\n",
       "      <th>1</th>\n",
       "      <th>2</th>\n",
       "      <th>3</th>\n",
       "      <th>4</th>\n",
       "    </tr>\n",
       "  </thead>\n",
       "  <tbody>\n",
       "    <tr>\n",
       "      <th>0</th>\n",
       "      <td>14</td>\n",
       "      <td>24</td>\n",
       "      <td>34</td>\n",
       "      <td>44</td>\n",
       "      <td>54</td>\n",
       "    </tr>\n",
       "    <tr>\n",
       "      <th>1</th>\n",
       "      <td>58</td>\n",
       "      <td>48</td>\n",
       "      <td>38</td>\n",
       "      <td>28</td>\n",
       "      <td>18</td>\n",
       "    </tr>\n",
       "    <tr>\n",
       "      <th>2</th>\n",
       "      <td>115</td>\n",
       "      <td>215</td>\n",
       "      <td>315</td>\n",
       "      <td>415</td>\n",
       "      <td>515</td>\n",
       "    </tr>\n",
       "    <tr>\n",
       "      <th>3</th>\n",
       "      <td>516</td>\n",
       "      <td>416</td>\n",
       "      <td>316</td>\n",
       "      <td>216</td>\n",
       "      <td>116</td>\n",
       "    </tr>\n",
       "    <tr>\n",
       "      <th>4</th>\n",
       "      <td>123</td>\n",
       "      <td>223</td>\n",
       "      <td>323</td>\n",
       "      <td>423</td>\n",
       "      <td>523</td>\n",
       "    </tr>\n",
       "    <tr>\n",
       "      <th>5</th>\n",
       "      <td>542</td>\n",
       "      <td>442</td>\n",
       "      <td>342</td>\n",
       "      <td>242</td>\n",
       "      <td>142</td>\n",
       "    </tr>\n",
       "  </tbody>\n",
       "</table>\n",
       "</div>"
      ],
      "text/plain": [
       "     0    1    2    3    4\n",
       "0   14   24   34   44   54\n",
       "1   58   48   38   28   18\n",
       "2  115  215  315  415  515\n",
       "3  516  416  316  216  116\n",
       "4  123  223  323  423  523\n",
       "5  542  442  342  242  142"
      ]
     },
     "execution_count": 60,
     "metadata": {},
     "output_type": "execute_result"
    }
   ],
   "source": [
    "a1=pd.Series([14,58,115,516,123,542])\n",
    "a2=pd.Series([24,48,215,416,223,442])\n",
    "a3=pd.Series([34,38,315,316,323,342])\n",
    "a4=pd.Series([44,28,415,216,423,242])\n",
    "a5=pd.Series([54,18,515,116,523,142])\n",
    "df=pd.concat([a1,a2,a3,a4,a5],axis=1)\n",
    "df"
   ]
  },
  {
   "cell_type": "code",
   "execution_count": null,
   "id": "371e38d5-af7c-43cb-a297-146dbdc1efc7",
   "metadata": {},
   "outputs": [],
   "source": []
  }
 ],
 "metadata": {
  "kernelspec": {
   "display_name": "Python 3 (ipykernel)",
   "language": "python",
   "name": "python3"
  },
  "language_info": {
   "codemirror_mode": {
    "name": "ipython",
    "version": 3
   },
   "file_extension": ".py",
   "mimetype": "text/x-python",
   "name": "python",
   "nbconvert_exporter": "python",
   "pygments_lexer": "ipython3",
   "version": "3.10.8"
  }
 },
 "nbformat": 4,
 "nbformat_minor": 5
}
